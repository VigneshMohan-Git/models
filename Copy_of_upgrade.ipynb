{
  "nbformat": 4,
  "nbformat_minor": 0,
  "metadata": {
    "colab": {
      "name": "Copy of upgrade.ipynb",
      "provenance": [],
      "private_outputs": true,
      "collapsed_sections": [],
      "include_colab_link": true
    },
    "kernelspec": {
      "display_name": "Python 3",
      "name": "python3"
    }
  },
  "cells": [
    {
      "cell_type": "markdown",
      "metadata": {
        "id": "view-in-github",
        "colab_type": "text"
      },
      "source": [
        "<a href=\"https://colab.research.google.com/github/VigneshMohan-Git/models/blob/master/Copy_of_upgrade.ipynb\" target=\"_parent\"><img src=\"https://colab.research.google.com/assets/colab-badge.svg\" alt=\"Open In Colab\"/></a>"
      ]
    },
    {
      "cell_type": "markdown",
      "metadata": {
        "colab_type": "text",
        "id": "6bYaCABobL5q"
      },
      "source": [
        "##### Copyright 2018 The TensorFlow Authors."
      ]
    },
    {
      "cell_type": "markdown",
      "metadata": {
        "colab_type": "text",
        "id": "I9NCvDt5GwX4"
      },
      "source": [
        "### Setup\n",
        "\n",
        "Before getting started ensure that TensorlFlow 2.0 is installed."
      ]
    },
    {
      "cell_type": "code",
      "metadata": {
        "colab_type": "code",
        "id": "YKPlcTxLtgdN",
        "colab": {}
      },
      "source": [
        "from __future__ import absolute_import, division, print_function, unicode_literals"
      ],
      "execution_count": 0,
      "outputs": []
    },
    {
      "cell_type": "code",
      "metadata": {
        "colab_type": "code",
        "id": "DWVYbvi1WCeY",
        "colab": {}
      },
      "source": [
        "try:\n",
        "  import tensorflow.compat.v2 as tf\n",
        "except Exception:\n",
        "  pass\n",
        "\n",
        "tf.enable_v2_behavior()\n",
        "\n",
        "print(tf.__version__)"
      ],
      "execution_count": 0,
      "outputs": []
    },
    {
      "cell_type": "markdown",
      "metadata": {
        "colab_type": "text",
        "id": "Ycy3B5PNGutU"
      },
      "source": [
        "Clone the [tensorflow/models](https://github.com/tensorflow/models) git repository so you have some code to test on:"
      ]
    },
    {
      "cell_type": "code",
      "metadata": {
        "colab_type": "code",
        "id": "jyckoWyAZEhZ",
        "colab": {}
      },
      "source": [
        "!git clone --branch r1.13.0 --depth 1 https://github.com/tensorflow/models"
      ],
      "execution_count": 0,
      "outputs": []
    },
    {
      "cell_type": "markdown",
      "metadata": {
        "colab_type": "text",
        "id": "wfHOhbkgvrKr"
      },
      "source": [
        "\n",
        "### Read the help\n",
        "\n",
        "The script should be installed with TensorFlow. Here is the builtin help:"
      ]
    },
    {
      "cell_type": "code",
      "metadata": {
        "colab_type": "code",
        "id": "m2GF-tlntqTQ",
        "colab": {}
      },
      "source": [
        "!tf_upgrade_v2 -h"
      ],
      "execution_count": 0,
      "outputs": []
    },
    {
      "cell_type": "markdown",
      "metadata": {
        "colab_type": "text",
        "id": "se9Leqjm1CZR"
      },
      "source": [
        "### Example TF1 code"
      ]
    },
    {
      "cell_type": "markdown",
      "metadata": {
        "colab_type": "text",
        "id": "whD5i36s1SuM"
      },
      "source": [
        "Here is a simple TensorFlow 1.0 script:"
      ]
    },
    {
      "cell_type": "code",
      "metadata": {
        "colab_type": "code",
        "id": "mhGbYQ9HwbeU",
        "colab": {}
      },
      "source": [
        "!head -n 65 models/samples/cookbook/regression/custom_regression.py | tail -n 10"
      ],
      "execution_count": 0,
      "outputs": []
    },
    {
      "cell_type": "markdown",
      "metadata": {
        "colab_type": "text",
        "id": "UGO7xSyL89wX"
      },
      "source": [
        "With TensorFlow 2.0 installed it does not run:"
      ]
    },
    {
      "cell_type": "code",
      "metadata": {
        "colab_type": "code",
        "id": "TD7fFphX8_qE",
        "colab": {}
      },
      "source": [
        "!(cd models/samples/cookbook/regression && python custom_regression.py)"
      ],
      "execution_count": 0,
      "outputs": []
    },
    {
      "cell_type": "markdown",
      "metadata": {
        "colab_type": "text",
        "id": "iZZHu0H0wLRJ"
      },
      "source": [
        "### Single file\n",
        "\n",
        "The upgrade script can be run on a single Python file:"
      ]
    },
    {
      "cell_type": "code",
      "metadata": {
        "attributes": {
          "classes": [
            "sh"
          ],
          "id": ""
        },
        "colab_type": "code",
        "id": "xIBZVEjkqkc5",
        "colab": {}
      },
      "source": [
        "!tf_upgrade_v2 \\\n",
        "  --infile models/samples/cookbook/regression/custom_regression.py \\\n",
        "  --outfile /tmp/custom_regression_v2.py"
      ],
      "execution_count": 0,
      "outputs": []
    },
    {
      "cell_type": "markdown",
      "metadata": {
        "colab_type": "text",
        "id": "L9X2lxzqqkc9"
      },
      "source": [
        "The script will print errors if it can not find a fix for the code. "
      ]
    },
    {
      "cell_type": "markdown",
      "metadata": {
        "colab_type": "text",
        "id": "r7zpuE1vWSlL"
      },
      "source": [
        "### Directory tree"
      ]
    },
    {
      "cell_type": "markdown",
      "metadata": {
        "colab_type": "text",
        "id": "2q7Gtuu8SdIC"
      },
      "source": [
        "Typical projects, including this simple example, will use much more than one file. Typically want to upgrade an entire package, so the script can also be run on a directory tree:"
      ]
    },
    {
      "cell_type": "code",
      "metadata": {
        "colab_type": "code",
        "id": "XGqcdkAPqkc-",
        "colab": {}
      },
      "source": [
        "# upgrade the .py files and copy all the other files to the outtree\n",
        "!tf_upgrade_v2 \\\n",
        "    --intree models/samples/cookbook/regression/ \\\n",
        "    --outtree regression_v2/ \\\n",
        "    --reportfile tree_report.txt"
      ],
      "execution_count": 0,
      "outputs": []
    },
    {
      "cell_type": "markdown",
      "metadata": {
        "colab_type": "text",
        "id": "2S4j7sqbSowC"
      },
      "source": [
        "Note the one warning about the `dataset.make_one_shot_iterator` function.\n",
        "\n",
        "Now the script works in with TensorFlow 2.0:\n",
        "\n",
        "Note that because the `tf.compat.v1` module, the converted script will also run in TensorFlow 1.14. "
      ]
    },
    {
      "cell_type": "code",
      "metadata": {
        "colab_type": "code",
        "id": "vh0cmW3y1tX9",
        "colab": {}
      },
      "source": [
        "!(cd regression_v2 && python custom_regression.py 2>&1) | tail"
      ],
      "execution_count": 0,
      "outputs": []
    },
    {
      "cell_type": "markdown",
      "metadata": {
        "colab_type": "text",
        "id": "4EgZGGkdqkdC"
      },
      "source": [
        "## Detailed report\n",
        "\n",
        "The script also reports a list of detailed changes. In this example it found one possibly unsafe transformation and included a warning at the top of the file: "
      ]
    },
    {
      "cell_type": "code",
      "metadata": {
        "colab_type": "code",
        "id": "CtHaZbVaNMGV",
        "colab": {}
      },
      "source": [
        "!head -n 20 tree_report.txt"
      ],
      "execution_count": 0,
      "outputs": []
    },
    {
      "cell_type": "markdown",
      "metadata": {
        "colab_type": "text",
        "id": "1-UIFXP3cFSa"
      },
      "source": [
        "Note again the one warning about the `Dataset.make_one_shot_iterator function`."
      ]
    },
    {
      "cell_type": "markdown",
      "metadata": {
        "colab_type": "text",
        "id": "oxQeYS1TN-jv"
      },
      "source": [
        "In other cases the output will explain the reasoning for non-trivial changes:"
      ]
    },
    {
      "cell_type": "code",
      "metadata": {
        "colab_type": "code",
        "id": "WQs9kEvVN9th",
        "colab": {}
      },
      "source": [
        "%%writefile dropout.py\n",
        "import tensorflow as tf\n",
        "\n",
        "d = tf.nn.dropout(tf.range(10), 0.2)\n",
        "z = tf.zeros_like(d, optimize=False)"
      ],
      "execution_count": 0,
      "outputs": []
    },
    {
      "cell_type": "code",
      "metadata": {
        "colab_type": "code",
        "id": "7uOkacZsO3XX",
        "colab": {}
      },
      "source": [
        "!tf_upgrade_v2 \\\n",
        "  --infile dropout.py \\\n",
        "  --outfile dropout_v2.py \\\n",
        "  --reportfile dropout_report.txt > /dev/null"
      ],
      "execution_count": 0,
      "outputs": []
    },
    {
      "cell_type": "code",
      "metadata": {
        "colab_type": "code",
        "id": "m-J82-scPMGl",
        "colab": {}
      },
      "source": [
        "!cat dropout_report.txt"
      ],
      "execution_count": 0,
      "outputs": []
    },
    {
      "cell_type": "markdown",
      "metadata": {
        "colab_type": "text",
        "id": "DOOLN21nTGSS"
      },
      "source": [
        "Here is the modified file contents, note how the script adds argument names to deal with moved and renamed arguments:"
      ]
    },
    {
      "cell_type": "code",
      "metadata": {
        "colab_type": "code",
        "id": "SrYcJk9-TFlU",
        "colab": {}
      },
      "source": [
        "!cat dropout_v2.py"
      ],
      "execution_count": 0,
      "outputs": []
    },
    {
      "cell_type": "markdown",
      "metadata": {
        "colab_type": "text",
        "id": "wI_sVNp_b4C4"
      },
      "source": [
        "A larger project might contain a few errors. For example convert the deeplab model:"
      ]
    },
    {
      "cell_type": "code",
      "metadata": {
        "colab_type": "code",
        "id": "uzuY-bOvYBS7",
        "colab": {}
      },
      "source": [
        "!tf_upgrade_v2 \\\n",
        "    --intree models/research/deeplab \\\n",
        "    --outtree deeplab_v2 \\\n",
        "    --reportfile deeplab_report.txt > /dev/null"
      ],
      "execution_count": 0,
      "outputs": []
    },
    {
      "cell_type": "markdown",
      "metadata": {
        "colab_type": "text",
        "id": "FLhw3fm8drae"
      },
      "source": [
        "It produced the output files:"
      ]
    },
    {
      "cell_type": "code",
      "metadata": {
        "colab_type": "code",
        "id": "4YYLRxWJdSvQ",
        "colab": {}
      },
      "source": [
        "!ls deeplab_v2"
      ],
      "execution_count": 0,
      "outputs": []
    },
    {
      "cell_type": "markdown",
      "metadata": {
        "colab_type": "text",
        "id": "qtTC-cAZdEBy"
      },
      "source": [
        "But there were errors. The report will help you pin-point what you need to fix before this will run. Here are the first three errors:"
      ]
    },
    {
      "cell_type": "code",
      "metadata": {
        "colab_type": "code",
        "id": "UVTNOohlcyVZ",
        "colab": {}
      },
      "source": [
        "!cat deeplab_report.txt | grep -i models/research/deeplab | grep -i error | head -n 3"
      ],
      "execution_count": 0,
      "outputs": []
    },
    {
      "cell_type": "markdown",
      "metadata": {
        "colab_type": "text",
        "id": "gGBeDaFVRJ5l"
      },
      "source": [
        "## \"Safety\" mode"
      ]
    },
    {
      "cell_type": "markdown",
      "metadata": {
        "colab_type": "text",
        "id": "BnfCxB7SVtTO"
      },
      "source": [
        "The conversion script also has a less invasive `SAFETY` mode that simply changes the imports to use the `tensorflow.compat.v1` module:"
      ]
    },
    {
      "cell_type": "code",
      "metadata": {
        "colab_type": "code",
        "id": "XdaVXCPWQCC5",
        "colab": {}
      },
      "source": [
        "!cat dropout.py"
      ],
      "execution_count": 0,
      "outputs": []
    },
    {
      "cell_type": "code",
      "metadata": {
        "colab_type": "code",
        "id": "c0tvRJLGRYEb",
        "colab": {}
      },
      "source": [
        "!tf_upgrade_v2 --mode SAFETY --infile dropout.py --outfile dropout_v2_safe.py > /dev/null"
      ],
      "execution_count": 0,
      "outputs": []
    },
    {
      "cell_type": "code",
      "metadata": {
        "colab_type": "code",
        "id": "91suN2RaRfIV",
        "colab": {}
      },
      "source": [
        "!cat dropout_v2_safe.py"
      ],
      "execution_count": 0,
      "outputs": []
    }
  ]
}